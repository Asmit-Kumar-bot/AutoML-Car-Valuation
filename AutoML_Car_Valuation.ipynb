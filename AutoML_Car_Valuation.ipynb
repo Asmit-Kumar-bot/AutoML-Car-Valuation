{
 "cells": [
  {
   "cell_type": "markdown",
   "id": "073efbe5",
   "metadata": {},
   "source": [
    "__Import important liabrary__"
   ]
  },
  {
   "cell_type": "code",
   "execution_count": 30,
   "id": "d40eb1e9",
   "metadata": {},
   "outputs": [],
   "source": [
    "import pandas as pd\n",
    "import matplotlib.pyplot as plt\n",
    "import seaborn as sns\n",
    "from sklearn.model_selection import train_test_split\n",
    "from sklearn.linear_model import LinearRegression\n",
    "from sklearn.linear_model import Lasso\n",
    "from sklearn import metrics\n",
    "import joblib\n"
   ]
  },
  {
   "cell_type": "markdown",
   "id": "41d89216",
   "metadata": {},
   "source": [
    "__Data Collection and Processing__"
   ]
  },
  {
   "cell_type": "code",
   "execution_count": 31,
   "id": "86d7b678",
   "metadata": {},
   "outputs": [
    {
     "data": {
      "text/html": [
       "<div>\n",
       "<style scoped>\n",
       "    .dataframe tbody tr th:only-of-type {\n",
       "        vertical-align: middle;\n",
       "    }\n",
       "\n",
       "    .dataframe tbody tr th {\n",
       "        vertical-align: top;\n",
       "    }\n",
       "\n",
       "    .dataframe thead th {\n",
       "        text-align: right;\n",
       "    }\n",
       "</style>\n",
       "<table border=\"1\" class=\"dataframe\">\n",
       "  <thead>\n",
       "    <tr style=\"text-align: right;\">\n",
       "      <th></th>\n",
       "      <th>name</th>\n",
       "      <th>year</th>\n",
       "      <th>selling_price</th>\n",
       "      <th>km_driven</th>\n",
       "      <th>fuel</th>\n",
       "      <th>seller_type</th>\n",
       "      <th>transmission</th>\n",
       "      <th>owner</th>\n",
       "    </tr>\n",
       "  </thead>\n",
       "  <tbody>\n",
       "    <tr>\n",
       "      <th>0</th>\n",
       "      <td>Maruti 800 AC</td>\n",
       "      <td>2007</td>\n",
       "      <td>60000</td>\n",
       "      <td>70000</td>\n",
       "      <td>Petrol</td>\n",
       "      <td>Individual</td>\n",
       "      <td>Manual</td>\n",
       "      <td>First Owner</td>\n",
       "    </tr>\n",
       "    <tr>\n",
       "      <th>1</th>\n",
       "      <td>Maruti Wagon R LXI Minor</td>\n",
       "      <td>2007</td>\n",
       "      <td>135000</td>\n",
       "      <td>50000</td>\n",
       "      <td>Petrol</td>\n",
       "      <td>Individual</td>\n",
       "      <td>Manual</td>\n",
       "      <td>First Owner</td>\n",
       "    </tr>\n",
       "    <tr>\n",
       "      <th>2</th>\n",
       "      <td>Hyundai Verna 1.6 SX</td>\n",
       "      <td>2012</td>\n",
       "      <td>600000</td>\n",
       "      <td>100000</td>\n",
       "      <td>Diesel</td>\n",
       "      <td>Individual</td>\n",
       "      <td>Manual</td>\n",
       "      <td>First Owner</td>\n",
       "    </tr>\n",
       "    <tr>\n",
       "      <th>3</th>\n",
       "      <td>Datsun RediGO T Option</td>\n",
       "      <td>2017</td>\n",
       "      <td>250000</td>\n",
       "      <td>46000</td>\n",
       "      <td>Petrol</td>\n",
       "      <td>Individual</td>\n",
       "      <td>Manual</td>\n",
       "      <td>First Owner</td>\n",
       "    </tr>\n",
       "    <tr>\n",
       "      <th>4</th>\n",
       "      <td>Honda Amaze VX i-DTEC</td>\n",
       "      <td>2014</td>\n",
       "      <td>450000</td>\n",
       "      <td>141000</td>\n",
       "      <td>Diesel</td>\n",
       "      <td>Individual</td>\n",
       "      <td>Manual</td>\n",
       "      <td>Second Owner</td>\n",
       "    </tr>\n",
       "  </tbody>\n",
       "</table>\n",
       "</div>"
      ],
      "text/plain": [
       "                       name  year  selling_price  km_driven    fuel  \\\n",
       "0             Maruti 800 AC  2007          60000      70000  Petrol   \n",
       "1  Maruti Wagon R LXI Minor  2007         135000      50000  Petrol   \n",
       "2      Hyundai Verna 1.6 SX  2012         600000     100000  Diesel   \n",
       "3    Datsun RediGO T Option  2017         250000      46000  Petrol   \n",
       "4     Honda Amaze VX i-DTEC  2014         450000     141000  Diesel   \n",
       "\n",
       "  seller_type transmission         owner  \n",
       "0  Individual       Manual   First Owner  \n",
       "1  Individual       Manual   First Owner  \n",
       "2  Individual       Manual   First Owner  \n",
       "3  Individual       Manual   First Owner  \n",
       "4  Individual       Manual  Second Owner  "
      ]
     },
     "execution_count": 31,
     "metadata": {},
     "output_type": "execute_result"
    }
   ],
   "source": [
    "# loading the dataset from csv file\n",
    "\n",
    "car_dataset = pd.read_csv('car_dataset.csv')\n",
    "\n",
    "# inspecting the first 5 rows of the dataset\n",
    "\n",
    "car_dataset.head()"
   ]
  },
  {
   "cell_type": "code",
   "execution_count": 32,
   "id": "30ca8c00",
   "metadata": {},
   "outputs": [
    {
     "data": {
      "text/plain": [
       "(4340, 8)"
      ]
     },
     "execution_count": 32,
     "metadata": {},
     "output_type": "execute_result"
    }
   ],
   "source": [
    "# checking the number of rows and columns in the dataset\n",
    "\n",
    "car_dataset.shape\n"
   ]
  },
  {
   "cell_type": "code",
   "execution_count": 33,
   "id": "819b20a8",
   "metadata": {},
   "outputs": [
    {
     "name": "stdout",
     "output_type": "stream",
     "text": [
      "<class 'pandas.core.frame.DataFrame'>\n",
      "RangeIndex: 4340 entries, 0 to 4339\n",
      "Data columns (total 8 columns):\n",
      " #   Column         Non-Null Count  Dtype \n",
      "---  ------         --------------  ----- \n",
      " 0   name           4340 non-null   object\n",
      " 1   year           4340 non-null   int64 \n",
      " 2   selling_price  4340 non-null   int64 \n",
      " 3   km_driven      4340 non-null   int64 \n",
      " 4   fuel           4340 non-null   object\n",
      " 5   seller_type    4340 non-null   object\n",
      " 6   transmission   4340 non-null   object\n",
      " 7   owner          4340 non-null   object\n",
      "dtypes: int64(3), object(5)\n",
      "memory usage: 271.4+ KB\n"
     ]
    }
   ],
   "source": [
    "# getting some information about the dataset\n",
    "\n",
    "car_dataset.info()"
   ]
  },
  {
   "cell_type": "code",
   "execution_count": 34,
   "id": "ede8015c",
   "metadata": {},
   "outputs": [
    {
     "name": "stdout",
     "output_type": "stream",
     "text": [
      "fuel\n",
      "Diesel      2153\n",
      "Petrol      2123\n",
      "CNG           40\n",
      "LPG           23\n",
      "Electric       1\n",
      "Name: count, dtype: int64\n",
      "owner\n",
      "First Owner             2832\n",
      "Second Owner            1106\n",
      "Third Owner              304\n",
      "Fourth & Above Owner      81\n",
      "Test Drive Car            17\n",
      "Name: count, dtype: int64\n",
      "transmission\n",
      "Manual       3892\n",
      "Automatic     448\n",
      "Name: count, dtype: int64\n",
      "seller_type\n",
      "Individual          3244\n",
      "Dealer               994\n",
      "Trustmark Dealer     102\n",
      "Name: count, dtype: int64\n"
     ]
    }
   ],
   "source": [
    "# checking the distribution of categorical features\n",
    "\n",
    "print(car_dataset.fuel.value_counts())\n",
    "\n",
    "print(car_dataset.owner.value_counts())\n",
    "\n",
    "print(car_dataset.transmission.value_counts())\n",
    "print(car_dataset.seller_type.value_counts())"
   ]
  },
  {
   "cell_type": "markdown",
   "id": "93f8834c",
   "metadata": {},
   "source": [
    "__Encoding Categorical data__"
   ]
  },
  {
   "cell_type": "code",
   "execution_count": 35,
   "id": "5aacf12d",
   "metadata": {},
   "outputs": [
    {
     "name": "stderr",
     "output_type": "stream",
     "text": [
      "C:\\Users\\asmit\\AppData\\Local\\Temp\\ipykernel_16696\\247115528.py:2: FutureWarning: Downcasting behavior in `replace` is deprecated and will be removed in a future version. To retain the old behavior, explicitly call `result.infer_objects(copy=False)`. To opt-in to the future behavior, set `pd.set_option('future.no_silent_downcasting', True)`\n",
      "  car_dataset.replace({'fuel':{'Diesel':0, 'Petrol':1, 'CNG':2, 'LPG':3, 'Electric':4}}, inplace = True)\n",
      "C:\\Users\\asmit\\AppData\\Local\\Temp\\ipykernel_16696\\247115528.py:5: FutureWarning: Downcasting behavior in `replace` is deprecated and will be removed in a future version. To retain the old behavior, explicitly call `result.infer_objects(copy=False)`. To opt-in to the future behavior, set `pd.set_option('future.no_silent_downcasting', True)`\n",
      "  car_dataset.replace({'owner':{'First Owner':0, 'Second Owner':1, 'Third Owner':2, 'Fourth & Above Owner':3, 'Test Drive Car':4}}, inplace = True)\n",
      "C:\\Users\\asmit\\AppData\\Local\\Temp\\ipykernel_16696\\247115528.py:8: FutureWarning: Downcasting behavior in `replace` is deprecated and will be removed in a future version. To retain the old behavior, explicitly call `result.infer_objects(copy=False)`. To opt-in to the future behavior, set `pd.set_option('future.no_silent_downcasting', True)`\n",
      "  car_dataset.replace({'transmission':{'Manual':0, 'Automatic':1}}, inplace = True)\n",
      "C:\\Users\\asmit\\AppData\\Local\\Temp\\ipykernel_16696\\247115528.py:11: FutureWarning: Downcasting behavior in `replace` is deprecated and will be removed in a future version. To retain the old behavior, explicitly call `result.infer_objects(copy=False)`. To opt-in to the future behavior, set `pd.set_option('future.no_silent_downcasting', True)`\n",
      "  car_dataset.replace({'seller_type':{'Individual':0, 'Dealer':1, 'Trustmark Dealer':2}}, inplace = True)\n"
     ]
    }
   ],
   "source": [
    "# encoding \"fuel\" column\n",
    "car_dataset.replace({'fuel':{'Diesel':0, 'Petrol':1, 'CNG':2, 'LPG':3, 'Electric':4}}, inplace = True)\n",
    "\n",
    "# encoding \"owner\" column\n",
    "car_dataset.replace({'owner':{'First Owner':0, 'Second Owner':1, 'Third Owner':2, 'Fourth & Above Owner':3, 'Test Drive Car':4}}, inplace = True)\n",
    "\n",
    "# encoding \"transmission\" column\n",
    "car_dataset.replace({'transmission':{'Manual':0, 'Automatic':1}}, inplace = True)\n",
    "\n",
    "# encoding \"seller_type\" column\n",
    "car_dataset.replace({'seller_type':{'Individual':0, 'Dealer':1, 'Trustmark Dealer':2}}, inplace = True)\n"
   ]
  },
  {
   "cell_type": "code",
   "execution_count": 36,
   "id": "0547aa81",
   "metadata": {},
   "outputs": [
    {
     "data": {
      "text/html": [
       "<div>\n",
       "<style scoped>\n",
       "    .dataframe tbody tr th:only-of-type {\n",
       "        vertical-align: middle;\n",
       "    }\n",
       "\n",
       "    .dataframe tbody tr th {\n",
       "        vertical-align: top;\n",
       "    }\n",
       "\n",
       "    .dataframe thead th {\n",
       "        text-align: right;\n",
       "    }\n",
       "</style>\n",
       "<table border=\"1\" class=\"dataframe\">\n",
       "  <thead>\n",
       "    <tr style=\"text-align: right;\">\n",
       "      <th></th>\n",
       "      <th>name</th>\n",
       "      <th>year</th>\n",
       "      <th>selling_price</th>\n",
       "      <th>km_driven</th>\n",
       "      <th>fuel</th>\n",
       "      <th>seller_type</th>\n",
       "      <th>transmission</th>\n",
       "      <th>owner</th>\n",
       "    </tr>\n",
       "  </thead>\n",
       "  <tbody>\n",
       "    <tr>\n",
       "      <th>0</th>\n",
       "      <td>Maruti 800 AC</td>\n",
       "      <td>2007</td>\n",
       "      <td>60000</td>\n",
       "      <td>70000</td>\n",
       "      <td>1</td>\n",
       "      <td>0</td>\n",
       "      <td>0</td>\n",
       "      <td>0</td>\n",
       "    </tr>\n",
       "    <tr>\n",
       "      <th>1</th>\n",
       "      <td>Maruti Wagon R LXI Minor</td>\n",
       "      <td>2007</td>\n",
       "      <td>135000</td>\n",
       "      <td>50000</td>\n",
       "      <td>1</td>\n",
       "      <td>0</td>\n",
       "      <td>0</td>\n",
       "      <td>0</td>\n",
       "    </tr>\n",
       "    <tr>\n",
       "      <th>2</th>\n",
       "      <td>Hyundai Verna 1.6 SX</td>\n",
       "      <td>2012</td>\n",
       "      <td>600000</td>\n",
       "      <td>100000</td>\n",
       "      <td>0</td>\n",
       "      <td>0</td>\n",
       "      <td>0</td>\n",
       "      <td>0</td>\n",
       "    </tr>\n",
       "    <tr>\n",
       "      <th>3</th>\n",
       "      <td>Datsun RediGO T Option</td>\n",
       "      <td>2017</td>\n",
       "      <td>250000</td>\n",
       "      <td>46000</td>\n",
       "      <td>1</td>\n",
       "      <td>0</td>\n",
       "      <td>0</td>\n",
       "      <td>0</td>\n",
       "    </tr>\n",
       "    <tr>\n",
       "      <th>4</th>\n",
       "      <td>Honda Amaze VX i-DTEC</td>\n",
       "      <td>2014</td>\n",
       "      <td>450000</td>\n",
       "      <td>141000</td>\n",
       "      <td>0</td>\n",
       "      <td>0</td>\n",
       "      <td>0</td>\n",
       "      <td>1</td>\n",
       "    </tr>\n",
       "  </tbody>\n",
       "</table>\n",
       "</div>"
      ],
      "text/plain": [
       "                       name  year  selling_price  km_driven  fuel  \\\n",
       "0             Maruti 800 AC  2007          60000      70000     1   \n",
       "1  Maruti Wagon R LXI Minor  2007         135000      50000     1   \n",
       "2      Hyundai Verna 1.6 SX  2012         600000     100000     0   \n",
       "3    Datsun RediGO T Option  2017         250000      46000     1   \n",
       "4     Honda Amaze VX i-DTEC  2014         450000     141000     0   \n",
       "\n",
       "   seller_type  transmission  owner  \n",
       "0            0             0      0  \n",
       "1            0             0      0  \n",
       "2            0             0      0  \n",
       "3            0             0      0  \n",
       "4            0             0      1  "
      ]
     },
     "execution_count": 36,
     "metadata": {},
     "output_type": "execute_result"
    }
   ],
   "source": [
    "car_dataset.head()"
   ]
  },
  {
   "cell_type": "markdown",
   "id": "9dd356bb",
   "metadata": {},
   "source": [
    "__Splitting the data into Tranning data and Test data__"
   ]
  },
  {
   "cell_type": "code",
   "execution_count": 37,
   "id": "9bdad6b2",
   "metadata": {},
   "outputs": [],
   "source": [
    "X = car_dataset.drop(['name', 'selling_price'], axis = 1)\n",
    "Y = car_dataset['selling_price']"
   ]
  },
  {
   "cell_type": "code",
   "execution_count": 38,
   "id": "75124311",
   "metadata": {},
   "outputs": [
    {
     "name": "stdout",
     "output_type": "stream",
     "text": [
      "      year  km_driven  fuel  seller_type  transmission  owner\n",
      "0     2007      70000     1            0             0      0\n",
      "1     2007      50000     1            0             0      0\n",
      "2     2012     100000     0            0             0      0\n",
      "3     2017      46000     1            0             0      0\n",
      "4     2014     141000     0            0             0      1\n",
      "...    ...        ...   ...          ...           ...    ...\n",
      "4335  2014      80000     0            0             0      1\n",
      "4336  2014      80000     0            0             0      1\n",
      "4337  2009      83000     1            0             0      1\n",
      "4338  2016      90000     0            0             0      0\n",
      "4339  2016      40000     1            0             0      0\n",
      "\n",
      "[4340 rows x 6 columns]\n"
     ]
    }
   ],
   "source": [
    "print(X)"
   ]
  },
  {
   "cell_type": "code",
   "execution_count": 39,
   "id": "9fc5e3af",
   "metadata": {},
   "outputs": [
    {
     "name": "stdout",
     "output_type": "stream",
     "text": [
      "0        60000\n",
      "1       135000\n",
      "2       600000\n",
      "3       250000\n",
      "4       450000\n",
      "         ...  \n",
      "4335    409999\n",
      "4336    409999\n",
      "4337    110000\n",
      "4338    865000\n",
      "4339    225000\n",
      "Name: selling_price, Length: 4340, dtype: int64\n"
     ]
    }
   ],
   "source": [
    "print(Y)"
   ]
  },
  {
   "cell_type": "markdown",
   "id": "83d8cf82",
   "metadata": {},
   "source": [
    "$Splitting$ $Tranning$ $and$ $Test$ $data$"
   ]
  },
  {
   "cell_type": "code",
   "execution_count": 40,
   "id": "f0720f28",
   "metadata": {},
   "outputs": [],
   "source": [
    "X_train, X_test, Y_train, Y_test = train_test_split(X, Y, test_size = 0.1,random_state = 2) "
   ]
  },
  {
   "cell_type": "markdown",
   "id": "89fd07ab",
   "metadata": {},
   "source": [
    "__Model Tranning__"
   ]
  },
  {
   "cell_type": "markdown",
   "id": "6b748f7c",
   "metadata": {},
   "source": [
    "$1.$ $Linear$ $Regression$"
   ]
  },
  {
   "cell_type": "code",
   "execution_count": 41,
   "id": "fbc195e8",
   "metadata": {},
   "outputs": [
    {
     "data": {
      "text/plain": [
       "['linear_model.pkl']"
      ]
     },
     "execution_count": 41,
     "metadata": {},
     "output_type": "execute_result"
    }
   ],
   "source": [
    "# loading the linear regression model\n",
    "\n",
    "lin_reg_model = LinearRegression()\n",
    "\n",
    "lin_reg_model.fit(X_train, Y_train)\n",
    "\n",
    "# saving the model to a file\n",
    "joblib.dump(lin_reg_model, \"linear_model.pkl\")"
   ]
  },
  {
   "cell_type": "markdown",
   "id": "9374eb18",
   "metadata": {},
   "source": [
    "__Model Evaluation__"
   ]
  },
  {
   "cell_type": "code",
   "execution_count": 42,
   "id": "cb20184c",
   "metadata": {},
   "outputs": [],
   "source": [
    "# prediction on tranning data \n",
    "\n",
    "tranning_data_prediction = lin_reg_model.predict(X_train)"
   ]
  },
  {
   "cell_type": "code",
   "execution_count": 43,
   "id": "85725c6a",
   "metadata": {},
   "outputs": [
    {
     "name": "stdout",
     "output_type": "stream",
     "text": [
      "R squared error -  0.4430787587921934\n"
     ]
    }
   ],
   "source": [
    "# R squared Error\n",
    "\n",
    "error_score = metrics.r2_score(Y_train, tranning_data_prediction)\n",
    "\n",
    "print(\"R squared error - \",error_score)"
   ]
  },
  {
   "cell_type": "markdown",
   "id": "5396a1fd",
   "metadata": {},
   "source": [
    "__Visualize the actual price and predicted price__"
   ]
  },
  {
   "cell_type": "code",
   "execution_count": 44,
   "id": "a251b6f3",
   "metadata": {},
   "outputs": [
    {
     "data": {
      "image/png": "[encoded data removed]",
      "text/plain": [
       "<Figure size 640x480 with 1 Axes>"
      ]
     },
     "metadata": {},
     "output_type": "display_data"
    }
   ],
   "source": [
    "plt.scatter(Y_train, tranning_data_prediction)\n",
    "plt.xlabel('Actual price')\n",
    "plt.ylabel('Predicted price')\n",
    "plt.title('Actual price Vs Predicated price')\n",
    "plt.show()"
   ]
  },
  {
   "cell_type": "code",
   "execution_count": 45,
   "id": "b4b4d1c6",
   "metadata": {},
   "outputs": [],
   "source": [
    "# prediction on testing data\n",
    " \n",
    "testing_data_prediction = lin_reg_model.predict(X_test)\n"
   ]
  },
  {
   "cell_type": "code",
   "execution_count": 46,
   "id": "f5cf4c1f",
   "metadata": {},
   "outputs": [
    {
     "data": {
      "image/png": "[encoded data removed]",
      "text/plain": [
       "<Figure size 640x480 with 1 Axes>"
      ]
     },
     "metadata": {},
     "output_type": "display_data"
    }
   ],
   "source": [
    "# visualize the test data and predicted data\n",
    "\n",
    "plt.scatter(Y_test, testing_data_prediction)\n",
    "plt.xlabel('Actual price')\n",
    "plt.ylabel('Predicated price')\n",
    "plt.title('Actual price Vs Predicted price')\n",
    "plt.show()"
   ]
  },
  {
   "cell_type": "markdown",
   "id": "df79e23c",
   "metadata": {},
   "source": [
    "$2.$ $LASSO$"
   ]
  },
  {
   "cell_type": "code",
   "execution_count": 47,
   "id": "da00f2a6",
   "metadata": {},
   "outputs": [
    {
     "data": {
      "text/plain": [
       "['lasso_model.pkl']"
      ]
     },
     "execution_count": 47,
     "metadata": {},
     "output_type": "execute_result"
    }
   ],
   "source": [
    "# loading the LASSO model\n",
    "\n",
    "lasso = Lasso()\n",
    "\n",
    "lasso.fit(X_train, Y_train)\n",
    "\n",
    "# saving the LASSO model to a file\n",
    "\n",
    "joblib.dump(lasso, \"lasso_model.pkl\")"
   ]
  },
  {
   "cell_type": "markdown",
   "id": "6923ff93",
   "metadata": {},
   "source": [
    "__Model Evaluation__"
   ]
  },
  {
   "cell_type": "code",
   "execution_count": 48,
   "id": "02d2dde8",
   "metadata": {},
   "outputs": [],
   "source": [
    "# prediction on tranning data \n",
    "\n",
    "tranning_data_prediction = lasso.predict(X_train)"
   ]
  },
  {
   "cell_type": "code",
   "execution_count": 49,
   "id": "1e668d72",
   "metadata": {},
   "outputs": [
    {
     "name": "stdout",
     "output_type": "stream",
     "text": [
      "R squared error -  0.4430787587404139\n"
     ]
    }
   ],
   "source": [
    "# R squared Error\n",
    "\n",
    "error_score = metrics.r2_score(Y_train, tranning_data_prediction)\n",
    "\n",
    "print(\"R squared error - \",error_score)"
   ]
  },
  {
   "cell_type": "markdown",
   "id": "474b305b",
   "metadata": {},
   "source": [
    "__Visualize the actual price and predicted price__"
   ]
  },
  {
   "cell_type": "code",
   "execution_count": 50,
   "id": "941d1003",
   "metadata": {},
   "outputs": [
    {
     "data": {
      "image/png": "[encoded data removed]",
      "text/plain": [
       "<Figure size 640x480 with 1 Axes>"
      ]
     },
     "metadata": {},
     "output_type": "display_data"
    }
   ],
   "source": [
    "plt.scatter(Y_train, tranning_data_prediction)\n",
    "plt.xlabel('Actual price')\n",
    "plt.ylabel('Predicted price')\n",
    "plt.title('Actual price Vs Predicated price')\n",
    "plt.show()"
   ]
  },
  {
   "cell_type": "code",
   "execution_count": 51,
   "id": "c6aeb8de",
   "metadata": {},
   "outputs": [],
   "source": [
    "# prediction on testing data\n",
    " \n",
    "testing_data_prediction = lasso.predict(X_test)\n"
   ]
  },
  {
   "cell_type": "code",
   "execution_count": 52,
   "id": "b460f400",
   "metadata": {},
   "outputs": [
    {
     "data": {
      "image/png": "[encoded data removed]",
      "text/plain": [
       "<Figure size 640x480 with 1 Axes>"
      ]
     },
     "metadata": {},
     "output_type": "display_data"
    }
   ],
   "source": [
    "# visualize the test data and predicted data\n",
    "\n",
    "plt.scatter(Y_test, testing_data_prediction)\n",
    "plt.xlabel('Actual price')\n",
    "plt.ylabel('Predicated price')\n",
    "plt.title('Actual price Vs Predicted price')\n",
    "plt.show()"
   ]
  },
  {
   "cell_type": "code",
   "execution_count": 53,
   "id": "ec16522d",
   "metadata": {},
   "outputs": [],
   "source": [
    "year = int(input(\"Enter the year of purchase (e.g., 2014): \"))\n",
    "km_driven = int(input(\"Enter the kilometers driven: \"))\n",
    "fuel = input(\"Enter the fuel type (Petrol/Diesel/CNG/LPG/Electric): \").capitalize()\n",
    "seller_type = input(\"Enter seller type (Individual/Dealer/Trustmark Dealer): \").capitalize()\n",
    "transmission = input(\"Enter transmission type (Manual/Automatic): \").capitalize()\n",
    "owner = input(\"Enter ownership status (First Owner/Second Owner/Third Owner/Fourth & Above Owner/Test Drive Car): \").title()"
   ]
  },
  {
   "cell_type": "code",
   "execution_count": 54,
   "id": "58216368",
   "metadata": {},
   "outputs": [
    {
     "name": "stderr",
     "output_type": "stream",
     "text": [
      "C:\\Users\\asmit\\AppData\\Local\\Temp\\ipykernel_16696\\898552973.py:11: FutureWarning: Downcasting behavior in `replace` is deprecated and will be removed in a future version. To retain the old behavior, explicitly call `result.infer_objects(copy=False)`. To opt-in to the future behavior, set `pd.set_option('future.no_silent_downcasting', True)`\n",
      "  input_df.replace({'fuel':{'Diesel':0, 'Petrol':1, 'Cng':2, 'Lpg':3, 'Electric':4}}, inplace = True)\n",
      "C:\\Users\\asmit\\AppData\\Local\\Temp\\ipykernel_16696\\898552973.py:14: FutureWarning: Downcasting behavior in `replace` is deprecated and will be removed in a future version. To retain the old behavior, explicitly call `result.infer_objects(copy=False)`. To opt-in to the future behavior, set `pd.set_option('future.no_silent_downcasting', True)`\n",
      "  input_df.replace({'owner':{'First Owner':0, 'Second Owner':1, 'Third Owner':2, 'Fourth & Above Owner':3, 'Test Drive Car':4}}, inplace = True)\n",
      "C:\\Users\\asmit\\AppData\\Local\\Temp\\ipykernel_16696\\898552973.py:17: FutureWarning: Downcasting behavior in `replace` is deprecated and will be removed in a future version. To retain the old behavior, explicitly call `result.infer_objects(copy=False)`. To opt-in to the future behavior, set `pd.set_option('future.no_silent_downcasting', True)`\n",
      "  input_df.replace({'transmission':{'Manual':0, 'Automatic':1}}, inplace = True)\n",
      "C:\\Users\\asmit\\AppData\\Local\\Temp\\ipykernel_16696\\898552973.py:20: FutureWarning: Downcasting behavior in `replace` is deprecated and will be removed in a future version. To retain the old behavior, explicitly call `result.infer_objects(copy=False)`. To opt-in to the future behavior, set `pd.set_option('future.no_silent_downcasting', True)`\n",
      "  input_df.replace({'seller_type':{'Individual':0, 'Dealer':1, 'Trustmark Dealer':2}}, inplace = True)\n"
     ]
    }
   ],
   "source": [
    "input_df = pd.DataFrame({\n",
    "    'year': [year],\n",
    "    'km_driven': [km_driven],\n",
    "    'fuel': [fuel],\n",
    "    'seller_type': [seller_type],\n",
    "    'transmission': [transmission],\n",
    "    'owner': [owner]\n",
    "})\n",
    "\n",
    "# encoding \"fuel\" \n",
    "input_df.replace({'fuel':{'Diesel':0, 'Petrol':1, 'Cng':2, 'Lpg':3, 'Electric':4}}, inplace = True)\n",
    "\n",
    "# encoding \"owner\"\n",
    "input_df.replace({'owner':{'First Owner':0, 'Second Owner':1, 'Third Owner':2, 'Fourth & Above Owner':3, 'Test Drive Car':4}}, inplace = True)\n",
    "\n",
    "# encoding \"transmission\"\n",
    "input_df.replace({'transmission':{'Manual':0, 'Automatic':1}}, inplace = True)\n",
    "\n",
    "# encoding \"seller_type\"\n",
    "input_df.replace({'seller_type':{'Individual':0, 'Dealer':1, 'Trustmark Dealer':2}}, inplace = True)\n"
   ]
  },
  {
   "cell_type": "code",
   "execution_count": 55,
   "id": "bb21ff0e",
   "metadata": {},
   "outputs": [
    {
     "name": "stdout",
     "output_type": "stream",
     "text": [
      "\n",
      "🚗 Predicted Car Price: ₹547,083\n"
     ]
    }
   ],
   "source": [
    "predicted_price = lin_reg_model.predict(input_df)\n",
    "print(f\"\\n🚗 Predicted Car Price: ₹{int(predicted_price[0]):,}\")"
   ]
  },
  {
   "cell_type": "code",
   "execution_count": null,
   "id": "d4eb2671",
   "metadata": {},
   "outputs": [],
   "source": []
  }
 ],
 "metadata": {
  "kernelspec": {
   "display_name": "Python 3",
   "language": "python",
   "name": "python3"
  },
  "language_info": {
   "codemirror_mode": {
    "name": "ipython",
    "version": 3
   },
   "file_extension": ".py",
   "mimetype": "text/x-python",
   "name": "python",
   "nbconvert_exporter": "python",
   "pygments_lexer": "ipython3",
   "version": "3.13.1"
  }
 },
 "nbformat": 4,
 "nbformat_minor": 5
}
